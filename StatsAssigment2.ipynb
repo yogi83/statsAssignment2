{
 "cells": [
  {
   "cell_type": "markdown",
   "id": "89ae4e8b",
   "metadata": {},
   "source": [
    "'''Problem Statement 1: \n",
    "In each of the following situations, state whether it is a correctly stated hypothesis \n",
    "testing problem and why?\n",
    "1. 𝐻0: 𝜇 = 25, 𝐻1: 𝜇 ≠ 25\n",
    "2. 𝐻0: 𝜎 > 10, 𝐻1: 𝜎 = 10\n",
    "3. 𝐻0: 𝑥 = 50, 𝐻1: 𝑥 ≠ 50\n",
    "4. 𝐻0: 𝑝 = 0.1, 𝐻1: 𝑝 = 0.5\n",
    "5. 𝐻0: 𝑠 = 30, 𝐻1: 𝑠 > 30 '''\n",
    "\n",
    "1. It is correctly stated hypothesis testing problem because here null hypothesis indicating that there is no change i.e. mean is equal to 25 but alternate hypothesis assuming that means is not equal to 25.\n",
    "\n",
    "2. It is not correctly stated hypothesis testing problem because here null hypothesis assuming a change in standard deviation which is against null hypothesis problem.\n",
    "\n",
    "3. It is not correctly stated hypothesis testing problem because here in null hypothesis assumption is about x which is sample data\n",
    "\n",
    "4. It is not correctly stated hypothesis testing problem because alternate hypothesis assumption is totally diffrent from null hypothesis.\n",
    "\n",
    "5. It is not correctly stated hypothesis testing problem because here in null hypothesis assumption is about the sample data which is against its rules\n",
    "        "
   ]
  },
  {
   "cell_type": "markdown",
   "id": "a7ce8796",
   "metadata": {},
   "source": [
    "Problem Statement 2:\n",
    "The college bookstore tells prospective students that the average cost of its \n",
    "textbooks is Rs. 52 with a standard deviation of Rs. 4.50. A group of smart statistics \n",
    "students thinks that the average cost is higher. To test the bookstore’s claim against \n",
    "their alternative, the students will select a random sample of size 100. Assume that \n",
    "the mean from their random sample is Rs. 52.80. Perform a hypothesis test at the \n",
    "5% level of significance and state your decision"
   ]
  },
  {
   "cell_type": "code",
   "execution_count": 9,
   "id": "77879cad",
   "metadata": {},
   "outputs": [
    {
     "name": "stdout",
     "output_type": "stream",
     "text": [
      "the computed value of z is 1.7777777777777715\n",
      "critical region is -1.9599639845400545, 1.9599639845400545\n"
     ]
    }
   ],
   "source": [
    "import numpy as np\n",
    "import math\n",
    "from scipy.stats import norm\n",
    "\n",
    "mean = 52\n",
    "std = 4.50\n",
    "n = 100\n",
    "s_mean = 52.80\n",
    "\n",
    "z = (s_mean - mean)/ (std/n**0.5)\n",
    "print(f\"the computed value of z is {z}\")\n",
    "\n",
    "alpha = .05 # significance level  5%\n",
    "\n",
    "print(f\"critical value of z is {norm.ppf(alpha/2)}, {-norm.ppf(alpha/2)}\")\n",
    "                            "
   ]
  },
  {
   "cell_type": "markdown",
   "id": "c4e4b0ba",
   "metadata": {},
   "source": [
    "As we can see that computed value of z is within the critial region, so we accept the null hypothesis"
   ]
  },
  {
   "cell_type": "code",
   "execution_count": 12,
   "id": "88102ccc",
   "metadata": {},
   "outputs": [
    {
     "name": "stdout",
     "output_type": "stream",
     "text": [
      "the computed value of z is -1.3258252147247767\n",
      "critical value of z is -2.575829303548901, 2.575829303548901\n"
     ]
    }
   ],
   "source": [
    "'''Problem Statement 3: \n",
    "A certain chemical pollutant in the Genesee River has been constant for several \n",
    "years with mean μ = 34 ppm (parts per million) and standard deviation σ = 8 ppm. A \n",
    "group of factory representatives whose companies discharge liquids into the river is \n",
    "now claiming that they have lowered the average with improved filtration devices. A \n",
    "group of environmentalists will test to see if this is true at the 1% level of \n",
    "significance. Assume \\ that their sample of size 50 gives a mean of 32.5 ppm. \n",
    "Perform a hypothesis test at the 1% level of significance and state your decision.'''\n",
    "\n",
    "import numpy as np\n",
    "from scipy.stats import norm\n",
    "\n",
    "p_mean = 34\n",
    "std = 8\n",
    "alpha = .01 # significance level is 1%\n",
    "n = 50\n",
    "s_mean = 32.5\n",
    "\n",
    "z = (s_mean - p_mean) / (std/n**0.5)\n",
    "print(f\"the computed value of z is {z}\")\n",
    "\n",
    "print(f'critical value of z is {norm.ppf(alpha/2)}, {-norm.ppf(alpha/2)}')"
   ]
  },
  {
   "cell_type": "markdown",
   "id": "b33bea33",
   "metadata": {},
   "source": [
    "hence we see that computed value(z score) is within the critical region, so we accept the null hypothesis"
   ]
  },
  {
   "cell_type": "code",
   "execution_count": 16,
   "id": "1e798c68",
   "metadata": {},
   "outputs": [
    {
     "name": "stdout",
     "output_type": "stream",
     "text": [
      "sample mean is : 1031.3181818181818\n",
      "sample standard deviation is 234.84799462314425\n",
      "computed score of t is -2.070747228595759\n",
      "degree of freedom is 21\n",
      "critical region is in between : -0.6863519891164291 to 0.6863519891164291\n"
     ]
    }
   ],
   "source": [
    "'''Problem Statement 4: \n",
    "Based on population figures and other general information on the U.S. population, \n",
    "suppose it has been estimated that, on average, a family of four in the U.S. spends \n",
    "about $1135 annually on dental expenditures. Suppose further that a regional dental \n",
    "association wants to test to determine if this figure is accurate for their area of \n",
    "country. To test this, 22 families of 4 are randomly selected from the population in \n",
    "that area of the country and a log is kept of the family’s dental expenditure for one \n",
    "year. The resulting data are given below. Assuming, that dental expenditure is \n",
    "normally distributed in the population, use the data and an alpha of 0.5 to test the \n",
    "dental association’s hypothesis.\n",
    "\n",
    "1008, 812, 1117, 1323, 1308, 1415, 831, 1021, 1287, 851, 930, 730, 699,\n",
    "872, 913, 944, 954, 987, 1695, 995, 1003, 994\n",
    "\n",
    "'''\n",
    "import numpy as np\n",
    "import scipy.stats as stats\n",
    "\n",
    "x = [1008, 812, 1117, 1323, 1308, 1415, 831, 1021, 1287, 851, 930, 730, 699, 872, 913, 944, 954, 987, 1695, 995, 1003, 994]\n",
    "p_mean = 1135\n",
    "n = 22\n",
    "alpha = 0.5\n",
    "s_mean = np.sum(x) / len(x)\n",
    "print(f\"sample mean is : {s_mean}\")\n",
    "\n",
    "sample_std = np.std(x)\n",
    "print(f'sample standard deviation is {sample_std}')\n",
    "\n",
    "t_value = (s_mean - p_mean) / (sample_std/n**0.5)\n",
    "\n",
    "print (f'computed score of t is {t_value}')\n",
    "\n",
    "df = 22-1 \n",
    "print(f\"degree of freedom is {df}\")\n",
    "print(f'critical region is in between : {stats.t.ppf((alpha/2), df = 21)} to {stats.t.ppf((1-(alpha/2)), df = 21)}')\n"
   ]
  },
  {
   "cell_type": "markdown",
   "id": "e017951a",
   "metadata": {},
   "source": [
    "As our t_score is out of critical area range of acceptance of null hypothesis, so we reject the null hypothesis."
   ]
  },
  {
   "cell_type": "code",
   "execution_count": 6,
   "id": "f7d4e15e",
   "metadata": {},
   "outputs": [
    {
     "name": "stdout",
     "output_type": "stream",
     "text": [
      "computed t_score is : 1.42\n",
      "the critical region is -1.9659272959208094 to 1.965927295920809\n"
     ]
    }
   ],
   "source": [
    "'''Problem Statement 5: \n",
    "In a report prepared by the Economic Research Department of a major bank the \n",
    "Department manager maintains that the average annual family income on Metropolis \n",
    "is $48,432. What do you conclude about the validity of the report if a random sample \n",
    "of 400 families shows and average income of $48,574 with a standard deviation of \n",
    "2000?'''\n",
    "\n",
    "import scipy.stats as stats\n",
    "import numpy as np\n",
    "\n",
    "p_mean = 48432\n",
    "n = 400\n",
    "s_mean = 48574\n",
    "s_std = 2000\n",
    "alpha = 0.05 # when not given , we assume it mostly as 0.05\n",
    "\n",
    "t_score = (s_mean - p_mean)/ (s_std/n**0.5)\n",
    "print(f\"computed t_score is : {t_score}\")\n",
    "\n",
    "dof = 399\n",
    "\n",
    "print(f\"the critical region is {stats.t.ppf((alpha/2),df=dof)} to {stats.t.ppf((1-alpha/2),df=dof)}\")\n"
   ]
  },
  {
   "cell_type": "markdown",
   "id": "662cc85a",
   "metadata": {},
   "source": [
    "So we accept the null hypothesis as the computed score is within the critical region "
   ]
  },
  {
   "cell_type": "code",
   "execution_count": 8,
   "id": "fabc0a48",
   "metadata": {},
   "outputs": [
    {
     "name": "stdout",
     "output_type": "stream",
     "text": [
      "our coumputed t_score is -0.5478703589777224\n",
      "the critical region is between from -2.10092204024096 to 2.10092204024096\n"
     ]
    }
   ],
   "source": [
    "'''Problem Statement 6:\n",
    "Suppose that in past years the average price per square foot for warehouses in the \n",
    "United States has been $32.28. A national real estate investor wants to determine \n",
    "whether that figure has changed now. The investor hires a researcher who randomly \n",
    "samples 19 warehouses that are for sale across the United States and finds that the \n",
    "mean price per square foot is $31.67, with a standard deviation of $1.29. assume \n",
    "that the prices of warehouse footage are normally distributed in population. If the \n",
    "researcher uses a 5% level of significance, what statistical conclusion can be \n",
    "reached? What are the hypotheses?'''\n",
    "\n",
    "import numpy as np\n",
    "import scipy.stats as stats\n",
    "\n",
    "p_mean = 32.28\n",
    "n = 19\n",
    "s_mean = 31.67\n",
    "s_std = 1.29\n",
    "\n",
    "alpha = 0.05\n",
    "\n",
    "t_score = (s_mean - p_mean)/(s_std/n**0.05)\n",
    "\n",
    "print(f\"our coumputed t_score is {t_score}\")\n",
    "dof = n-1\n",
    "print(f'the critical region is between from {stats.t.ppf(alpha/2,df = dof)} to {stats.t.ppf((1-alpha/2),df = dof)}')"
   ]
  },
  {
   "cell_type": "code",
   "execution_count": 14,
   "id": "4a73ecdb",
   "metadata": {},
   "outputs": [
    {
     "name": "stdout",
     "output_type": "stream",
     "text": [
      "-4.427188724235731\n",
      "-0.6324555320336759\n",
      " the value of beta is : 0.2643\n"
     ]
    }
   ],
   "source": [
    "'''Problem Statement 7:\n",
    "Fill in the blank spaces in the table and draw your conclusions from it.\n",
    "\n",
    "acceptance region - 48.5 < 51.5\n",
    "'''\n",
    "# calculating beta\n",
    "n = 10 \n",
    "mu1 = 52 \n",
    "std = 2.5\n",
    "\n",
    "p1 = (48.5 - mu1)/(std/(n**0.5))\n",
    "print(p1)\n",
    "\n",
    "p2 = (51.5 - mu1)/(std/n**.5)\n",
    "print(p2)\n",
    "\n",
    "# our z score lies in between p2 & p1 (as p2 is greater than p1)\n",
    "# beta = P(p2 < z < p1) where P means probability\n",
    "# P(-4.42 < z < -0.63)\n",
    "# P(Z < -0.63) - P(Z < -4.42)\n",
    "# 0.2643 + 0.00\n",
    "beta = 0.2643\n",
    "print(f\" the value of beta is : {beta}\")\n",
    "\n"
   ]
  },
  {
   "cell_type": "code",
   "execution_count": 41,
   "id": "6633f6d0",
   "metadata": {},
   "outputs": [
    {
     "name": "stdout",
     "output_type": "stream",
     "text": [
      "-2.5298221281347035\n",
      "1.2649110640673518\n",
      "the value of beta is : 0.1095\n"
     ]
    }
   ],
   "source": [
    "# calcualte beta at mu = 50.5\n",
    "n = 10 \n",
    "mu = 50.5\n",
    "std = 2.5\n",
    "\n",
    "p3 = (48.5 - mu)/(std/(n**0.5))\n",
    "print(p3)\n",
    "\n",
    "p4 = (51.5 - mu)/(std/n**.5)\n",
    "print(p4)\n",
    " \n",
    "# now the z score lies between p3 & p4\n",
    "# now we find out probabilities at p3 & p4 by looking in z table which are as follows - \n",
    "z1 = 0.0057\n",
    "z2 = 0.8962\n",
    "\n",
    "beta1 = z1 + (1-z2)\n",
    "print(f\"the value of beta is : {beta1}\")\n"
   ]
  },
  {
   "cell_type": "code",
   "execution_count": 43,
   "id": "1c2bb9fc",
   "metadata": {},
   "outputs": [
    {
     "name": "stdout",
     "output_type": "stream",
     "text": [
      "-5.059644256269407\n",
      "-1.2649110640673518\n",
      "value of beta is : 0.1038\n"
     ]
    }
   ],
   "source": [
    "# ii) 48 < x < 51\n",
    "# calculate beta at mu = 52\n",
    "\n",
    "n = 10 \n",
    "mu2 = 52 \n",
    "std = 2.5\n",
    "\n",
    "p1 = (48 - mu2)/(std/(n**0.5))\n",
    "print(p1)\n",
    "\n",
    "p2 = (51 - mu2)/(std/n**.5)\n",
    "print(p2)\n",
    "\n",
    "# now we find probability at p1 & p2\n",
    "\n",
    "z1 = 0\n",
    "z2 = 0.1038\n",
    "\n",
    "beta = z2 - z1\n",
    "print(f'value of beta is : {beta}')\n"
   ]
  },
  {
   "cell_type": "code",
   "execution_count": 44,
   "id": "895ad94c",
   "metadata": {},
   "outputs": [
    {
     "name": "stdout",
     "output_type": "stream",
     "text": [
      "-3.1622776601683795\n",
      "0.6324555320336759\n",
      "the value of beta is : 0.2651\n"
     ]
    }
   ],
   "source": [
    "# ii) 48 < x < 51\n",
    "# calculate beta at mu = 50.5\n",
    "\n",
    "n = 10 \n",
    "mu = 50.5\n",
    "std = 2.5\n",
    "\n",
    "p1 = (48 - mu)/(std/(n**0.5))\n",
    "print(p1)\n",
    "\n",
    "p2 = (51 - mu)/(std/n**.5)\n",
    "print(p2)\n",
    "\n",
    "# now we find probability at p1 & p2\n",
    "z1 = 0.0008\n",
    "z2 = 0.7357\n",
    "beta = z1 + (1 - z2)\n",
    "\n",
    "print(f\"the value of beta is : {beta}\")"
   ]
  },
  {
   "cell_type": "code",
   "execution_count": 48,
   "id": "b38568c8",
   "metadata": {},
   "outputs": [
    {
     "name": "stdout",
     "output_type": "stream",
     "text": [
      "-5.1039999999999965\n",
      "-0.16000000000000228\n",
      "the value of beta is : 0.4364\n"
     ]
    }
   ],
   "source": [
    "# iii) 48.81 < x < 51.9\n",
    "# calculate beta at mu = 52\n",
    "\n",
    "n = 16\n",
    "std = 2.5\n",
    "mu = 52\n",
    "\n",
    "p1 = (48.81 - mu)/(std/(n**0.5))\n",
    "print(p1)\n",
    "\n",
    "p2 = (51.9 - mu)/(std/n**.5)\n",
    "print(p2)\n",
    "\n",
    "# now we find probability at p1 & p2\n",
    "z1 = 0.4364\n",
    "z2 = 0\n",
    "\n",
    "beta = z1 - z2\n",
    "print(f\"the value of beta is : {beta}\")"
   ]
  },
  {
   "cell_type": "code",
   "execution_count": 50,
   "id": "42d630f2",
   "metadata": {},
   "outputs": [
    {
     "name": "stdout",
     "output_type": "stream",
     "text": [
      "-2.703999999999996\n",
      "2.2399999999999975\n",
      "the value of beta is : 0.015699999999999957\n"
     ]
    }
   ],
   "source": [
    "# iii) 48.81 < x < 51.9\n",
    "# calculate beta at mu = 50.5\n",
    "\n",
    "n = 16\n",
    "std = 2.5\n",
    "mu = 50.5\n",
    "\n",
    "p1 = (48.81 - mu)/(std/(n**0.5))\n",
    "print(p1)\n",
    "\n",
    "p2 = (51.9 - mu)/(std/n**.5)\n",
    "print(p2)\n",
    "\n",
    "# now we find probability at p1 & p2\n",
    "z1 = 0.0032\n",
    "z2 = 0.9875\n",
    "\n",
    "beta = z1 + (1 -z2)\n",
    "print(f\"the value of beta is : {beta}\")"
   ]
  },
  {
   "cell_type": "code",
   "execution_count": 54,
   "id": "e2f71ce4",
   "metadata": {},
   "outputs": [
    {
     "name": "stdout",
     "output_type": "stream",
     "text": [
      "-5.727999999999997\n",
      "-0.6720000000000027\n",
      "the value of beta is : 0.2514\n"
     ]
    }
   ],
   "source": [
    "# iv) 48.42 <x < 51.58\n",
    "# calculate beta at mu = 52\n",
    "\n",
    "n = 16\n",
    "std = 2.5\n",
    "mu = 52\n",
    "\n",
    "p1 = (48.42 - mu)/(std/(n**0.5))\n",
    "print(p1)\n",
    "\n",
    "p2 = (51.58 - mu)/(std/n**.5)\n",
    "print(p2)\n",
    "\n",
    "# now we find probability at p1 & p2\n",
    "z1 = 0.0\n",
    "z2 = 0.2514\n",
    "\n",
    "beta = z2 - z1\n",
    "print(f\"the value of beta is : {beta}\")\n"
   ]
  },
  {
   "cell_type": "code",
   "execution_count": 57,
   "id": "8482e579",
   "metadata": {},
   "outputs": [
    {
     "name": "stdout",
     "output_type": "stream",
     "text": [
      "-3.327999999999997\n",
      "1.7279999999999973\n",
      "the value of beta is : 0.015999999999999955\n"
     ]
    }
   ],
   "source": [
    "# iv) 48.42 <x < 51.58\n",
    "# calculate beta at mu = 50.5\n",
    "\n",
    "n = 16\n",
    "std = 2.5\n",
    "mu = 50.5\n",
    "\n",
    "p1 = (48.42 - mu)/(std/(n**0.5))\n",
    "print(p1)\n",
    "\n",
    "p2 = (51.58 - mu)/(std/n**.5)\n",
    "print(p2)\n",
    "\n",
    "# now we find probability at p1 & p2\n",
    "z1 = 0.0035\n",
    "z2 = 0.9875\n",
    "\n",
    "beta = z1 + (1 - z2)\n",
    "print(f\"the value of beta is : {beta}\")\n"
   ]
  },
  {
   "cell_type": "code",
   "execution_count": 2,
   "id": "20f5a323",
   "metadata": {},
   "outputs": [
    {
     "name": "stdout",
     "output_type": "stream",
     "text": [
      "t_score is : 5.333333333333333\n"
     ]
    }
   ],
   "source": [
    "'''Problem Statement 8:\n",
    "Find the t-score for a sample size of 16 taken from a population with mean 10 when the sample mean is 12 \n",
    "and the sample standard deviation is 1.5.'''\n",
    "\n",
    "p_mean = 10\n",
    "s_mean = 12\n",
    "s_std = 1.5\n",
    "n = 16\n",
    "\n",
    "dof = n - 1\n",
    "\n",
    "import math\n",
    "t_score = (s_mean - p_mean)/ (s_std/math.sqrt(n))\n",
    "\n",
    "print(f't_score is : {t_score}')\n"
   ]
  },
  {
   "cell_type": "code",
   "execution_count": 8,
   "id": "7179a43a",
   "metadata": {},
   "outputs": [
    {
     "name": "stdout",
     "output_type": "stream",
     "text": [
      "0.005\n",
      "t_score is 2.946712883338615\n"
     ]
    }
   ],
   "source": [
    "'''Problem Statement 9:\n",
    "Find the t-score below which we can expect 99% of sample means will fall if samples of size 16 are taken from a normally\n",
    "distributed population.'''\n",
    "\n",
    "n = 16\n",
    "# C.I. = 99% # confidence interval\n",
    "dof = 15 # n-1\n",
    "alpha = (1-.99)/2\n",
    "print(round(alpha,3))\n",
    "\n",
    "import scipy.stats as stats\n",
    "print(f't_score is {stats.t.ppf(1 - alpha ,df = dof)}')"
   ]
  },
  {
   "cell_type": "code",
   "execution_count": 14,
   "id": "f0b41b34",
   "metadata": {},
   "outputs": [
    {
     "name": "stdout",
     "output_type": "stream",
     "text": [
      "0.025\n",
      "range of t scores is between : -2.0638985616280205 & 2.0638985616280205\n"
     ]
    }
   ],
   "source": [
    "'''Problem Statement 10:\n",
    "If a random sample of size 25 drawn from a normal population gives a mean of 60 and a standard deviation of 4, \n",
    "find the range of t-scores where we can expect to find the middle 95% of all sample means.\n",
    "Compute the probability that (−𝑡0.05 <𝑡<𝑡0.10)'''\n",
    "\n",
    "n = 25\n",
    "p_mean = 60\n",
    "p_std = 4\n",
    "# confidence interval = 95% = .95\n",
    "# significance level = 1 - .95 = .05\n",
    "alpha = (1- .95)/2\n",
    "print(round(alpha,3))\n",
    "\n",
    "dof = 24\n",
    "import scipy.stats as stats\n",
    "from scipy.stats import norm\n",
    "import math\n",
    "\n",
    "print(f'range of t scores is between : {stats.t.ppf(alpha, df = dof)} & {stats.t.ppf((1-alpha), df = dof)}')"
   ]
  },
  {
   "cell_type": "code",
   "execution_count": 16,
   "id": "e77860ec",
   "metadata": {},
   "outputs": [
    {
     "name": "stdout",
     "output_type": "stream",
     "text": [
      "the probability that (−𝑡0.05 <𝑡<𝑡0.10) is : 0.05914441613731247\n"
     ]
    }
   ],
   "source": [
    "# compute the probability that (−𝑡0.05 <𝑡<𝑡0.10)\n",
    "# p(t<0.10) - pz(t<0.05)\n",
    "P = stats.t.cdf(0.10, df= dof) - stats.t.cdf(-0.05, df = dof)\n",
    "\n",
    "print(f'the probability that (−𝑡0.05 <𝑡<𝑡0.10) is : {P}')"
   ]
  },
  {
   "cell_type": "code",
   "execution_count": 22,
   "id": "467e573e",
   "metadata": {},
   "outputs": [
    {
     "name": "stdout",
     "output_type": "stream",
     "text": [
      "z score is : -7.926428526759299\n",
      "the critical region of acceptance of null hypothisis is : -1.9599639845400545 , 1.9599639845400545\n"
     ]
    }
   ],
   "source": [
    "'''Problem Statement 11:\n",
    "Two-tailed test for difference between two population means Is there evidence to conclude that the number of people travelling \n",
    "from Bangalore to Chennai is different from the number of people travelling from Bangalore to Hosur in a week, given the \n",
    "following: Population 1: Bangalore to Chennai n1 = 1200, x1 = 452 ,s1 = 212 \n",
    "           Population 2: Bangalore to Hosur n2 = 800, x2 = 523, s2 = 185'''\n",
    "\n",
    "import math\n",
    "from scipy.stats import norm\n",
    "\n",
    "n1 = 1200\n",
    "x1 = 452 \n",
    "s1 = 212\n",
    "\n",
    "n2 = 800\n",
    "x2 = 523\n",
    "s2 = 185\n",
    "\n",
    "S1 = s1**2\n",
    "S2 = s2**2\n",
    "\n",
    "alpha = 0.05\n",
    "\n",
    "z = (x1 - x2)/ math.sqrt((S1/n1+S2/n2))\n",
    "print(f'z score is : {z}')\n",
    "print(f\"the critical region of acceptance of null hypothisis is : {norm.ppf(alpha/2)} , {-norm.ppf(alpha/2)}\")\n"
   ]
  },
  {
   "cell_type": "markdown",
   "id": "ea3ca872",
   "metadata": {},
   "source": [
    "as our computed value is not in between the acceptance region,so we reject the null hypothesis. So we can say that there is\n",
    "diffrence in between two population means"
   ]
  },
  {
   "cell_type": "code",
   "execution_count": 4,
   "id": "5b9d8bbe",
   "metadata": {},
   "outputs": [
    {
     "name": "stdout",
     "output_type": "stream",
     "text": [
      "computed value of z is : 5.025702668336442\n",
      "the critical region is between from -1.9599639845400545 to 1.9599639845400545\n"
     ]
    }
   ],
   "source": [
    "'''Problem Statement 12:\n",
    "Is there evidence to conclude that the number of people preferring Duracell battery is different from the number of people \n",
    "preferring Energizer battery, given the following: \n",
    "Population 1: Duracell n1 = 100 x1 = 308 s1 = 84 \n",
    "Population 2: Energizer n2 = 100 x2 = 254 s2 = 67'''\n",
    "\n",
    "n1 = 100\n",
    "x1 = 308\n",
    "s1 = 84\n",
    "\n",
    "n2 = 100\n",
    "x2 = 254\n",
    "s2 = 67\n",
    "\n",
    "S1 = s1**2\n",
    "S2 = s2**2\n",
    "\n",
    "alpha = 0.05\n",
    "\n",
    "import math\n",
    "from scipy.stats import norm\n",
    "z = (x1 - x2)/math.sqrt(S1/n1 + S2/n2)\n",
    "\n",
    "print(f'computed value of z is : {z}')\n",
    "\n",
    "print(f'the critical region is between from {norm.ppf(alpha/2)} to {-norm.ppf(alpha/2)}')"
   ]
  },
  {
   "cell_type": "markdown",
   "id": "ba8590a0",
   "metadata": {},
   "source": [
    "so we can see z score is not in critical region, so we reject the null hypothesis, & say that  the number of people preferring\n",
    "Duracell battery is different from the number of people preferring Energizer battery"
   ]
  },
  {
   "cell_type": "code",
   "execution_count": 28,
   "id": "e9636139",
   "metadata": {},
   "outputs": [
    {
     "name": "stdout",
     "output_type": "stream",
     "text": [
      "0.28400000000000003\n",
      "0.1162919151265879\n",
      "0.4272466296411038\n",
      "computed t_score is : 0.3931089218182991\n",
      "the critical region is below 1.7207429028118775\n"
     ]
    }
   ],
   "source": [
    "'''Problem Statement 13:\n",
    "Pooled estimate of the population variance Does the data provide sufficient evidence to conclude that average percentage \n",
    "increase in the price of sugar differs when it is sold at two different prices? Population 1: Price of \n",
    "sugar = Rs. 27.50 n1 = 14 x1 = 0.317% s1 = 0.12% Population 2: Price of sugar = Rs. 20.00 n2 = 9 x2 = 0.21% s2 = 0.11%'''\n",
    "\n",
    "\n",
    "n1 = 14\n",
    "x1 = 0.317\n",
    "s1 = 0.12\n",
    "\n",
    "n2 = 9 \n",
    "x2 = 0.21 \n",
    "s2 = 0.11\n",
    "\n",
    "S1 = s1**2\n",
    "S2 = s2**2\n",
    "\n",
    "import math\n",
    "import scipy.stats as stats\n",
    "# as n is less than 30, we prefer to use T test instead of z\n",
    "\n",
    "S = ((n1-1)*S1) + ((n2-1)*S2)\n",
    "print(S)\n",
    "dof = (n1 + n2 - 2) # degree of freedom\n",
    "\n",
    "s = math.sqrt(S/dof)\n",
    "print(s)\n",
    "n = math.sqrt((1/n1) + (1/n2))\n",
    "print(n)\n",
    "t = (x1 - x2)/s*n\n",
    "\n",
    "print(f'computed t_score is : {t}') # as by seeing t we can only find upper limit in +ve direction\n",
    "\n",
    "print(f'the critical region is below {stats.t.ppf(1 - 0.05, df = dof)}') # taking significance level at 5%"
   ]
  },
  {
   "cell_type": "markdown",
   "id": "fc99e37e",
   "metadata": {},
   "source": [
    "hence as our t_score falls in null hypothesis region area, we accept the null hypothesis which means that average percentage\n",
    "increase in the price of sugar differs "
   ]
  },
  {
   "cell_type": "code",
   "execution_count": 4,
   "id": "0537c170",
   "metadata": {},
   "outputs": [
    {
     "name": "stdout",
     "output_type": "stream",
     "text": [
      "computed t score is -0.1364745051598569\n",
      "the critical region is : -1.708140761251899\n"
     ]
    }
   ],
   "source": [
    "'''Problem Statement 14:\n",
    "The manufacturers of compact disk players want to test whether a small price reduction is enough to increase sales of their \n",
    "product. Is there evidence that the small price reduction is enough to increase sales of compact disk players?\n",
    "Population 1: Before reduction n1 = 15 x1 = Rs. 6598 s1 = Rs. 844 \n",
    "Population 2: After reduction n2 = 12 x2 = RS. 6870 s2 = Rs. 669'''\n",
    "\n",
    "n1 = 15 \n",
    "x1 = 6598 \n",
    "s1 = 844 \n",
    "\n",
    "n2 = 12 \n",
    "x2 =  6870 \n",
    "s2 =  669\n",
    "\n",
    "# as sample size is very small, we use two tailed t test\n",
    "\n",
    "import math\n",
    "import scipy.stats as stats\n",
    "\n",
    "s_1 = s1**2\n",
    "s_2 = s2**2\n",
    "\n",
    "dof = n1+n2 -2\n",
    "\n",
    "s = (n1-1)*s_1 + (n2-1)*s_2\n",
    "\n",
    "S = math.sqrt(s/dof)\n",
    "\n",
    "n = math.sqrt( (1/n1) + (1/n2) )\n",
    "\n",
    "t_score = (x1 - x2)/S*n\n",
    "\n",
    "print(f'computed t score is {t_score}')\n",
    "\n",
    "print(f\"the critical region is : {stats.t.ppf(0.05, df = dof)}\")"
   ]
  },
  {
   "cell_type": "markdown",
   "id": "fb3b2433",
   "metadata": {},
   "source": [
    "so we can say that t_score is in critical region, so we accept null hypothesis as significance level 5%, hence we conclude that\n",
    "a small price reduction will not affect sales "
   ]
  },
  {
   "cell_type": "code",
   "execution_count": 6,
   "id": "b55bbf48",
   "metadata": {},
   "outputs": [
    {
     "name": "stdout",
     "output_type": "stream",
     "text": [
      "z score is : 0.0\n",
      "critical region is : -1.6448536269514729\n"
     ]
    }
   ],
   "source": [
    "'''Problem Statement 15:\n",
    "Comparisons of two population proportions when the hypothesized difference is zero Carry out a two-tailed test of the \n",
    "equality of banks’ share of the car loan market in 1980 and 1995.\n",
    "Population 1: 1980 n1 = 1000 x1 = 53 𝑝 1 = 0.53\n",
    "Population 2: 1985 n2 = 100 x2 = 43 𝑝 2= 0.53'''\n",
    "\n",
    "\n",
    "n1 = 1000 \n",
    "x1 = 53 \n",
    "𝑝1 = 0.53\n",
    "\n",
    "n2 = 100 \n",
    "x2 = 43 \n",
    "𝑝2= 0.53\n",
    "\n",
    "from scipy.stats import norm\n",
    "x = (x1+x2)/(n1+n2)\n",
    "\n",
    "n = 1/n1 + 1/n2\n",
    "\n",
    "P = x*(1-x)\n",
    "\n",
    "z = (p1 - p2)/((P*n)**0.05)\n",
    "\n",
    "print(f\"z score is : {z}\")\n",
    "\n",
    "print(f'critical region is : {norm.ppf(0.05)}')\n"
   ]
  },
  {
   "cell_type": "markdown",
   "id": "b1ebf7ca",
   "metadata": {},
   "source": [
    "as we accept null hypothesis at significance level 10%"
   ]
  },
  {
   "cell_type": "code",
   "execution_count": 10,
   "id": "fe615a3b",
   "metadata": {},
   "outputs": [
    {
     "name": "stdout",
     "output_type": "stream",
     "text": [
      "z score is : 3.303749523611152\n",
      "critical region is : 1.6448536269514729\n"
     ]
    }
   ],
   "source": [
    "\"\"\"Problem Statement 16:\n",
    "Carry out a one-tailed test to determine whether the population proportion of traveler’s check buyers who buy at least $2500 \n",
    "in checks when sweepstakes prizes are offered as at least 10% higher than the proportion of such buyers when no sweepstakes are\n",
    "on. Population 1: With sweepstakes n1 = 300 x1 = 120 𝑝 = 0.40 \n",
    "Population 2: No sweepstakes n2 = 700 x2 = 140 𝑝 2= 0.20\"\"\"\n",
    "\n",
    "n1 = 300 \n",
    "x1 = 120 \n",
    "𝑝1 = 0.40\n",
    "\n",
    "n2 = 700 \n",
    "x2 = 140 \n",
    "𝑝2= 0.20\n",
    "\n",
    "from scipy.stats import norm\n",
    "\n",
    "x = (x1+x2)/(n1+n2)\n",
    "\n",
    "n = 1/n1 + 1/n2\n",
    "\n",
    "P = x*(1-x)\n",
    "\n",
    "# as stated in problem proportion is one case is at least 10% higher than proportion in 2nd case,so we subtract .1 also\n",
    "z = (p1-p2-.1)/((P*n)**0.5)\n",
    "\n",
    "print(f\"z score is : {z}\")\n",
    "\n",
    "print(f\"critical region is : {-norm.ppf(0.05)}\")"
   ]
  },
  {
   "cell_type": "markdown",
   "id": "966cf7e4",
   "metadata": {},
   "source": [
    "as it is not under critical region , so we reject the null hypothesis means there is diffrence at significance level 5%"
   ]
  },
  {
   "cell_type": "code",
   "execution_count": 15,
   "id": "189d9a61",
   "metadata": {},
   "outputs": [
    {
     "name": "stdout",
     "output_type": "stream",
     "text": [
      " Chi square value is 9.0 and p-value is 0.1090641579497725\n"
     ]
    }
   ],
   "source": [
    "'''Problem Statement 17:\n",
    "A die is thrown 132 times with the following results: Number turned up: 1, 2, 3, 4, 5, 6 \n",
    "Frequency: 16, 20, 25, 14, 29, 28 Is the die unbiased? Consider the degrees of freedom as 𝑝 − 1. '''\n",
    "\n",
    "frq_observations = [16, 20, 25, 14, 29, 28]\n",
    "frq_exp = [22,22,22,22,22,22]\n",
    "import scipy.stats as stats\n",
    "\n",
    "result = stats.chisquare(frq_observations, frq_exp)\n",
    "\n",
    "print(f\" Chi square value is {result[0]} and p-value is {result[1]}\")"
   ]
  },
  {
   "cell_type": "markdown",
   "id": "c5dfb016",
   "metadata": {},
   "source": [
    "by seeing chi square value, we can say that dice is unbiased"
   ]
  },
  {
   "cell_type": "code",
   "execution_count": null,
   "id": "fbd5a50f",
   "metadata": {},
   "outputs": [],
   "source": [
    "'''In a certain town, there are about one million eligible voters. A simple random sample of 10,000 eligible voters was chosen\n",
    "to study the relationship between gender and participation in the last election.\n",
    "The results are summarized in the following 2X2 (read two by two) contingency table:\n",
    "\n",
    "            Men       women\n",
    "Voted       2792      3591\n",
    "not voted   1486      2131 \n",
    "\n",
    "We would want to check whether being a man or a woman (columns) is independent of \n",
    "having voted in the last election (rows). In other words, is “gender and voting independent”? '''\n",
    "\n"
   ]
  },
  {
   "cell_type": "code",
   "execution_count": 24,
   "id": "768049b1",
   "metadata": {},
   "outputs": [
    {
     "name": "stdout",
     "output_type": "stream",
     "text": [
      "chisquare value is : 6.660455899328067\n"
     ]
    }
   ],
   "source": [
    "voted_men = 2792\n",
    "voted_women = 3591\n",
    "not_voted_men = 1486\n",
    "not_voted_women = 2131\n",
    "\n",
    "total_voted_ppl = 2792+3591\n",
    "total_unvoted_ppl = 1486+2131\n",
    "total_men = 2792+1486\n",
    "total_women = 3591+2131\n",
    "total_voters = 10000\n",
    "\n",
    "expected_men_voted = (total_voted_ppl * total_men)/total_voters\n",
    "expected_women_voted = (total_voted_ppl * total_women)/total_voters\n",
    "expected_not_voted_men = (total_unvoted_ppl* total_men)/total_voters\n",
    "expected_not_voted_women = (total_unvoted_ppl * total_women)/ total_voters\n",
    "\n",
    "chi_square_1 = ((voted_women - expected_women_voted)**2)/expected_women_voted\n",
    "\n",
    "chi_square_2 = ((voted_men - expected_men_voted)**2)/expected_men_voted\n",
    "\n",
    "chi_square_3 = ((not_voted_women - expected_not_voted_women)**2)/expected_not_voted_women\n",
    "\n",
    "chi_square_4 = ((not_voted_men - expected_not_voted_men)**2)/ expected_not_voted_men\n",
    "\n",
    "chisquare = chi_square_1 + chi_square_2 + chi_square_3 + chi_square_4\n",
    "\n",
    "print(f\"chisquare value is : {chisquare}\")"
   ]
  },
  {
   "cell_type": "markdown",
   "id": "9b43a60e",
   "metadata": {},
   "source": [
    "critical region with alpha 0.05 is 3.84. so we concluded that we reject the null hypothesis,\n",
    "so the gender & voted are dependent to each other"
   ]
  },
  {
   "cell_type": "code",
   "execution_count": 26,
   "id": "04c4523c",
   "metadata": {},
   "outputs": [
    {
     "name": "stdout",
     "output_type": "stream",
     "text": [
      "25.0\n"
     ]
    }
   ],
   "source": [
    "'''Problem Statement 19:\n",
    "A sample of 100 voters are asked which of four candidates they would vote for in an election.\n",
    "The number supporting each candidate is given below:\n",
    "  Higgins     Reardon     White     charlton \n",
    "\n",
    "    41          19          24         16\n",
    "Do the data suggest that all candidates are equally popular? [Chi-Square = 14.96,with 3 df, 𝑝 0.05 .]'''\n",
    "\n",
    "import numpy as np\n",
    "print(np.mean([41,19,24,16])) \n"
   ]
  },
  {
   "cell_type": "code",
   "execution_count": 27,
   "id": "9bd4bf1e",
   "metadata": {},
   "outputs": [
    {
     "name": "stdout",
     "output_type": "stream",
     "text": [
      "chi square value is : 14.959999999999999\n"
     ]
    }
   ],
   "source": [
    "import scipy.stats as stats\n",
    "\n",
    "obs = [41,19,24,16]\n",
    "exp = [25,25,25,25]\n",
    "results = stats.chisquare(obs,exp)\n",
    "\n",
    "print(f'chi square value is : {results[0]}')\n",
    "\n"
   ]
  },
  {
   "cell_type": "code",
   "execution_count": 28,
   "id": "718fe037",
   "metadata": {},
   "outputs": [
    {
     "name": "stdout",
     "output_type": "stream",
     "text": [
      "Critical region with 3df and alpha=0.05 is 7.82\n",
      "We reject null hypothesis. All candidates are not equally popular\n"
     ]
    }
   ],
   "source": [
    "print(f\"Critical region with 3df and alpha=0.05 is 7.82\")\n",
    "print(\"We reject null hypothesis. All candidates are not equally popular\")"
   ]
  },
  {
   "attachments": {
    "image2.png": {
     "image/png": "[encoded data removed]"
    }
   },
   "cell_type": "markdown",
   "id": "302cbd2a",
   "metadata": {},
   "source": [
    "'''Problem Statement 20:\n",
    "Children of three ages are asked to indicate their preference for three photographs of adults. Do the data suggest that there\n",
    "is a significant relationship between age and photograph preference? What is wrong with this study?\n",
    "[Chi-Square = 29.6, with 4 df: 𝑝 < 0.05]. '''\n",
    "\n",
    "![image2.png](attachment:image2.png)"
   ]
  },
  {
   "cell_type": "code",
   "execution_count": 31,
   "id": "74933edb",
   "metadata": {},
   "outputs": [
    {
     "name": "stdout",
     "output_type": "stream",
     "text": [
      "chi square value is : 29.603174603174608\n"
     ]
    }
   ],
   "source": [
    "observations = ([[18,22,20],[2,28,40],[20,10,40]])\n",
    "result = stats.chi2_contingency(observations)\n",
    "\n",
    "print(f\"chi square value is : {result[0]}\")"
   ]
  },
  {
   "cell_type": "markdown",
   "id": "eccc8ce5",
   "metadata": {},
   "source": [
    "critical region with 4df and alpha .001 is 18.47     \n",
    "so we reject the null hypothesis because chi square value is not in within the range of critical area.  so we can say that\n",
    "there is significant relationship between age and photograph preferences."
   ]
  },
  {
   "attachments": {
    "image3.PNG": {
     "image/png": "[encoded data removed]"
    }
   },
   "cell_type": "markdown",
   "id": "a02a0ff1",
   "metadata": {},
   "source": [
    "![image3.PNG](attachment:image3.PNG)"
   ]
  },
  {
   "cell_type": "code",
   "execution_count": 2,
   "id": "f3db7eb5",
   "metadata": {},
   "outputs": [
    {
     "name": "stdout",
     "output_type": "stream",
     "text": [
      "value of chi square is : 18.10344827586207\n",
      "critical region with 1 df & alpha 0.001 is 10.83\n"
     ]
    }
   ],
   "source": [
    "observations = ([[18,40],[32,10]])\n",
    "import scipy.stats as stats\n",
    "result = stats.chi2_contingency(observations)\n",
    "print(f\"value of chi square is : {result[0]}\")\n",
    "\n",
    "print(f\"critical region with 1 df & alpha 0.001 is 10.83\")"
   ]
  },
  {
   "cell_type": "code",
   "execution_count": 3,
   "id": "a9bb4c2b",
   "metadata": {},
   "outputs": [
    {
     "name": "stdout",
     "output_type": "stream",
     "text": [
      " chi square value is more than critical region value , so we reject null hypothesis \n",
      " so there is a significant diffrence between the support and no support conditions\n"
     ]
    }
   ],
   "source": [
    "print(\" chi square value is more than critical region value , so we reject null hypothesis \")\n",
    "print(\" so there is a significant diffrence between the support and no support conditions\")"
   ]
  },
  {
   "attachments": {
    "image5.PNG": {
     "image/png": "[encoded data removed]"
    }
   },
   "cell_type": "markdown",
   "id": "48d80663",
   "metadata": {},
   "source": [
    "![image5.PNG](attachment:image5.PNG)"
   ]
  },
  {
   "cell_type": "code",
   "execution_count": 5,
   "id": "5eeb9d5b",
   "metadata": {},
   "outputs": [
    {
     "name": "stdout",
     "output_type": "stream",
     "text": [
      "chi square value is : 31.61310319407798\n"
     ]
    }
   ],
   "source": [
    "observations = ([[679,103,114], [63,10,20],[42,18,25]])\n",
    "\n",
    "import scipy.stats as stats\n",
    "result = stats.chi2_contingency(observations)\n",
    "print(f'chi square value is : {result[0]}')"
   ]
  },
  {
   "cell_type": "code",
   "execution_count": 6,
   "id": "05dd4855",
   "metadata": {},
   "outputs": [
    {
     "name": "stdout",
     "output_type": "stream",
     "text": [
      "critical value for 4df & alpha 0.001 is 18.47\n",
      "as our computed value is more than critical region, so we reject the null hypothesis, so there is relationship\n"
     ]
    }
   ],
   "source": [
    "print(\"critical value for 4df & alpha 0.001 is 18.47\")\n",
    "print(\"as our computed value is more than critical region, so we reject the null hypothesis, so there is relationship\")"
   ]
  },
  {
   "cell_type": "code",
   "execution_count": null,
   "id": "38b77545",
   "metadata": {},
   "outputs": [],
   "source": []
  }
 ],
 "metadata": {
  "kernelspec": {
   "display_name": "Python 3",
   "language": "python",
   "name": "python3"
  },
  "language_info": {
   "codemirror_mode": {
    "name": "ipython",
    "version": 3
   },
   "file_extension": ".py",
   "mimetype": "text/x-python",
   "name": "python",
   "nbconvert_exporter": "python",
   "pygments_lexer": "ipython3",
   "version": "3.8.8"
  }
 },
 "nbformat": 4,
 "nbformat_minor": 5
}
